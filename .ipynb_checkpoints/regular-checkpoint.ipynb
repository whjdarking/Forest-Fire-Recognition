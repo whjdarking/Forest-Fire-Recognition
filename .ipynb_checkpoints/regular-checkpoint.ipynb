{
 "cells": [
  {
   "cell_type": "code",
   "execution_count": 1,
   "metadata": {},
   "outputs": [
    {
     "name": "stderr",
     "output_type": "stream",
     "text": [
      "Using TensorFlow backend.\n"
     ]
    }
   ],
   "source": [
    "import keras\n",
    "import sys\n",
    "from keras.applications.resnet50 import ResNet50\n",
    "from keras.layers import Dense\n",
    "from keras.models import Model, load_model\n",
    "from keras.preprocessing import image\n",
    "from keras.preprocessing.image import ImageDataGenerator\n",
    "from keras.applications.resnet50 import preprocess_input, decode_predictions\n",
    "import numpy as np"
   ]
  },
  {
   "cell_type": "code",
   "execution_count": 2,
   "metadata": {},
   "outputs": [],
   "source": [
    "'''\n",
    "model=load_model('my_model.h5')\n",
    "'''\n",
    "model=load_model('my_model_4.h5')"
   ]
  },
  {
   "cell_type": "code",
   "execution_count": 3,
   "metadata": {},
   "outputs": [
    {
     "name": "stdout",
     "output_type": "stream",
     "text": [
      "Found 1158 images belonging to 2 classes.\n",
      "Found 96 images belonging to 2 classes.\n"
     ]
    }
   ],
   "source": [
    "train_datagen =  ImageDataGenerator(\n",
    "    preprocessing_function=preprocess_input,\n",
    "    rotation_range=30,\n",
    "    width_shift_range=0.2,\n",
    "    height_shift_range=0.2,\n",
    "    shear_range=0.2,\n",
    "    zoom_range=0.2,\n",
    "    horizontal_flip=True\n",
    ")\n",
    "test_datagen = ImageDataGenerator(\n",
    "    preprocessing_function=preprocess_input\n",
    ")\n",
    "'''\n",
    "train_generator = train_datagen.flow_from_directory(\n",
    "    'train',\n",
    "    target_size=(224, 224),\n",
    "    batch_size=512)\n",
    "validation_generator = test_datagen.flow_from_directory(\n",
    "    'validation',\n",
    "    target_size=(224, 224),\n",
    "    batch_size=128)\n",
    "'''\n",
    "train_generator = train_datagen.flow_from_directory(\n",
    "    'train',\n",
    "    target_size=(224, 224),\n",
    "    batch_size=256,\n",
    "    shuffle=True)\n",
    "validation_generator = test_datagen.flow_from_directory(\n",
    "    'validation',\n",
    "    target_size=(224, 224),\n",
    "    batch_size=128,\n",
    "    shuffle=True)\n"
   ]
  },
  {
   "cell_type": "code",
   "execution_count": 4,
   "metadata": {},
   "outputs": [
    {
     "name": "stdout",
     "output_type": "stream",
     "text": [
      "Epoch 1/10\n"
     ]
    },
    {
     "name": "stderr",
     "output_type": "stream",
     "text": [
      "D:\\Anaconda\\envs\\keras\\lib\\site-packages\\PIL\\TiffImagePlugin.py:709: UserWarning: Corrupt EXIF data.  Expecting to read 4 bytes but only got 0. \n",
      "  warnings.warn(str(msg))\n"
     ]
    },
    {
     "name": "stdout",
     "output_type": "stream",
     "text": [
      "5/5 [==============================] - 22s 4s/step - loss: 0.2521 - acc: 0.9819 - val_loss: 0.3968 - val_acc: 0.9688\n",
      "Epoch 2/10\n",
      "5/5 [==============================] - 19s 4s/step - loss: 0.2408 - acc: 0.9809 - val_loss: 0.4537 - val_acc: 0.9375\n",
      "Epoch 3/10\n",
      "5/5 [==============================] - 21s 4s/step - loss: 0.2318 - acc: 0.9793 - val_loss: 0.2825 - val_acc: 0.9792\n",
      "Epoch 4/10\n",
      "5/5 [==============================] - 20s 4s/step - loss: 0.1976 - acc: 0.9913 - val_loss: 0.3521 - val_acc: 0.9688\n",
      "Epoch 5/10\n",
      "5/5 [==============================] - 20s 4s/step - loss: 0.1986 - acc: 0.9889 - val_loss: 0.2443 - val_acc: 0.9792\n",
      "Epoch 6/10\n",
      "5/5 [==============================] - 20s 4s/step - loss: 0.1787 - acc: 0.9899 - val_loss: 0.3081 - val_acc: 0.9688\n",
      "Epoch 7/10\n",
      "5/5 [==============================] - 19s 4s/step - loss: 0.1696 - acc: 0.9913 - val_loss: 0.2646 - val_acc: 0.9792\n",
      "Epoch 8/10\n",
      "5/5 [==============================] - 20s 4s/step - loss: 0.1498 - acc: 0.9946 - val_loss: 0.2562 - val_acc: 0.9792\n",
      "Epoch 9/10\n",
      "5/5 [==============================] - 20s 4s/step - loss: 0.1357 - acc: 0.9976 - val_loss: 0.2471 - val_acc: 0.9792\n",
      "Epoch 10/10\n",
      "5/5 [==============================] - 20s 4s/step - loss: 0.1285 - acc: 0.9954 - val_loss: 0.2516 - val_acc: 0.9688\n"
     ]
    }
   ],
   "source": [
    "history = model.fit_generator(\n",
    "    train_generator,\n",
    "    epochs=20,\n",
    "    validation_data=validation_generator)\n",
    "model.save('my_model_4.h5')\n",
    "\n",
    "with open('log9.txt','a') as f:\n",
    "    f.write(\"\\n\")\n",
    "    f.write(str(history.history))"
   ]
  }
 ],
 "metadata": {
  "kernelspec": {
   "display_name": "Python 3",
   "language": "python",
   "name": "python3"
  },
  "language_info": {
   "codemirror_mode": {
    "name": "ipython",
    "version": 3
   },
   "file_extension": ".py",
   "mimetype": "text/x-python",
   "name": "python",
   "nbconvert_exporter": "python",
   "pygments_lexer": "ipython3",
   "version": "3.5.4"
  }
 },
 "nbformat": 4,
 "nbformat_minor": 2
}
