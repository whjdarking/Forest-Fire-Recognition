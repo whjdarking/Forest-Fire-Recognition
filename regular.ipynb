{
 "cells": [
  {
   "cell_type": "code",
   "execution_count": 1,
   "metadata": {},
   "outputs": [
    {
     "name": "stderr",
     "output_type": "stream",
     "text": [
      "Using TensorFlow backend.\n"
     ]
    }
   ],
   "source": [
    "import keras\n",
    "import sys\n",
    "from keras.applications.resnet50 import ResNet50\n",
    "from keras.layers import Dense\n",
    "from keras.models import Model, load_model\n",
    "from keras.preprocessing import image\n",
    "from keras.preprocessing.image import ImageDataGenerator\n",
    "from keras.applications.resnet50 import preprocess_input, decode_predictions\n",
    "import numpy as np"
   ]
  },
  {
   "cell_type": "code",
   "execution_count": 2,
   "metadata": {},
   "outputs": [],
   "source": [
    "'''\n",
    "model=load_model('my_model.h5')\n",
    "'''\n",
    "model=load_model('my_model_5.h5')"
   ]
  },
  {
   "cell_type": "code",
   "execution_count": 3,
   "metadata": {},
   "outputs": [
    {
     "name": "stdout",
     "output_type": "stream",
     "text": [
      "Found 1189 images belonging to 2 classes.\n",
      "Found 132 images belonging to 2 classes.\n"
     ]
    }
   ],
   "source": [
    "train_datagen =  ImageDataGenerator(\n",
    "    preprocessing_function=preprocess_input,\n",
    "    rotation_range=30,\n",
    "    width_shift_range=0.2,\n",
    "    height_shift_range=0.2,\n",
    "    shear_range=0.2,\n",
    "    zoom_range=0.2,\n",
    "    horizontal_flip=True\n",
    ")\n",
    "test_datagen = ImageDataGenerator(\n",
    "    preprocessing_function=preprocess_input\n",
    ")\n",
    "'''\n",
    "train_generator = train_datagen.flow_from_directory(\n",
    "    'train',\n",
    "    target_size=(224, 224),\n",
    "    batch_size=512)\n",
    "validation_generator = test_datagen.flow_from_directory(\n",
    "    'validation',\n",
    "    target_size=(224, 224),\n",
    "    batch_size=128)\n",
    "'''\n",
    "train_generator = train_datagen.flow_from_directory(\n",
    "    'train',\n",
    "    target_size=(224, 224),\n",
    "    batch_size=256,\n",
    "    shuffle=True)\n",
    "validation_generator = test_datagen.flow_from_directory(\n",
    "    'validation',\n",
    "    target_size=(224, 224),\n",
    "    batch_size=128,\n",
    "    shuffle=True)\n"
   ]
  },
  {
   "cell_type": "code",
   "execution_count": 4,
   "metadata": {},
   "outputs": [
    {
     "name": "stdout",
     "output_type": "stream",
     "text": [
      "Epoch 1/20\n",
      "4/5 [=======================>......] - ETA: 4s - loss: 0.2865 - acc: 0.9887"
     ]
    },
    {
     "name": "stderr",
     "output_type": "stream",
     "text": [
      "D:\\Anaconda\\envs\\keras\\lib\\site-packages\\PIL\\TiffImagePlugin.py:709: UserWarning: Corrupt EXIF data.  Expecting to read 4 bytes but only got 0. \n",
      "  warnings.warn(str(msg))\n"
     ]
    },
    {
     "name": "stdout",
     "output_type": "stream",
     "text": [
      "5/5 [==============================] - 22s 4s/step - loss: 0.2799 - acc: 0.9909 - val_loss: 0.3370 - val_acc: 0.9773\n",
      "Epoch 2/20\n",
      "5/5 [==============================] - 20s 4s/step - loss: 0.2574 - acc: 0.9930 - val_loss: 0.3224 - val_acc: 0.9697\n",
      "Epoch 3/20\n",
      "5/5 [==============================] - 21s 4s/step - loss: 0.2385 - acc: 0.9929 - val_loss: 0.3213 - val_acc: 0.9697\n",
      "Epoch 4/20\n",
      "5/5 [==============================] - 21s 4s/step - loss: 0.2335 - acc: 0.9881 - val_loss: 0.3089 - val_acc: 0.9697\n",
      "Epoch 5/20\n",
      "5/5 [==============================] - 21s 4s/step - loss: 0.2045 - acc: 0.9949 - val_loss: 0.2892 - val_acc: 0.9773\n",
      "Epoch 6/20\n",
      "5/5 [==============================] - 21s 4s/step - loss: 0.2012 - acc: 0.9941 - val_loss: 0.2814 - val_acc: 0.9773\n",
      "Epoch 7/20\n",
      "5/5 [==============================] - 21s 4s/step - loss: 0.1857 - acc: 0.9901 - val_loss: 0.2456 - val_acc: 0.9848\n",
      "Epoch 8/20\n",
      "5/5 [==============================] - 21s 4s/step - loss: 0.1715 - acc: 0.9953 - val_loss: 0.2844 - val_acc: 0.9621\n",
      "Epoch 9/20\n",
      "5/5 [==============================] - 21s 4s/step - loss: 0.1638 - acc: 0.9906 - val_loss: 0.2286 - val_acc: 0.9773\n",
      "Epoch 10/20\n",
      "5/5 [==============================] - 21s 4s/step - loss: 0.1608 - acc: 0.9913 - val_loss: 0.2852 - val_acc: 0.9545\n",
      "Epoch 11/20\n",
      "5/5 [==============================] - 21s 4s/step - loss: 0.1468 - acc: 0.9929 - val_loss: 0.2291 - val_acc: 0.9773\n",
      "Epoch 12/20\n",
      "5/5 [==============================] - 20s 4s/step - loss: 0.1352 - acc: 0.9953 - val_loss: 0.2619 - val_acc: 0.9545\n",
      "Epoch 13/20\n",
      "5/5 [==============================] - 21s 4s/step - loss: 0.1345 - acc: 0.9909 - val_loss: 0.2365 - val_acc: 0.9697\n",
      "Epoch 14/20\n",
      "5/5 [==============================] - 20s 4s/step - loss: 0.1417 - acc: 0.9846 - val_loss: 0.2036 - val_acc: 0.9773\n",
      "Epoch 15/20\n",
      "5/5 [==============================] - 21s 4s/step - loss: 0.1242 - acc: 0.9922 - val_loss: 0.2450 - val_acc: 0.9621\n",
      "Epoch 16/20\n",
      "5/5 [==============================] - 21s 4s/step - loss: 0.1129 - acc: 0.9957 - val_loss: 0.1933 - val_acc: 0.9697\n",
      "Epoch 17/20\n",
      "5/5 [==============================] - 20s 4s/step - loss: 0.1067 - acc: 0.9945 - val_loss: 0.2186 - val_acc: 0.9697\n",
      "Epoch 18/20\n",
      "5/5 [==============================] - 21s 4s/step - loss: 0.1100 - acc: 0.9910 - val_loss: 0.1863 - val_acc: 0.9697\n",
      "Epoch 19/20\n",
      "5/5 [==============================] - 21s 4s/step - loss: 0.1022 - acc: 0.9934 - val_loss: 0.2611 - val_acc: 0.9545\n",
      "Epoch 20/20\n",
      "5/5 [==============================] - 21s 4s/step - loss: 0.1074 - acc: 0.9847 - val_loss: 0.1795 - val_acc: 0.9773\n"
     ]
    }
   ],
   "source": [
    "history = model.fit_generator(\n",
    "    train_generator,\n",
    "    epochs=20,\n",
    "    validation_data=validation_generator)\n",
    "model.save('my_model_4.h5')\n",
    "\n",
    "with open('log9.txt','a') as f:\n",
    "    f.write(\"\\n\")\n",
    "    f.write(str(history.history))"
   ]
  }
 ],
 "metadata": {
  "kernelspec": {
   "display_name": "Python 3",
   "language": "python",
   "name": "python3"
  },
  "language_info": {
   "codemirror_mode": {
    "name": "ipython",
    "version": 3
   },
   "file_extension": ".py",
   "mimetype": "text/x-python",
   "name": "python",
   "nbconvert_exporter": "python",
   "pygments_lexer": "ipython3",
   "version": "3.5.4"
  }
 },
 "nbformat": 4,
 "nbformat_minor": 2
}
